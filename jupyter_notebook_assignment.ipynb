{
 "cells": [
  {
   "cell_type": "markdown",
   "id": "1c82e00f",
   "metadata": {},
   "source": [
    "# My Jupyter Notebook on IBM Watson Studio"
   ]
  },
  {
   "cell_type": "markdown",
   "id": "e900869f",
   "metadata": {},
   "source": [
    "**Dr Wai Phyo Maung**\n",
    "\n",
    "Current occupation - Public Health Physician\n",
    "\n",
    "Desired occupation - Public Health Data Scientist"
   ]
  },
  {
   "cell_type": "markdown",
   "id": "d654dcb2",
   "metadata": {},
   "source": [
    "*Since I was young, I love math. After finishing my medical school, during my postgrad in economics, I got a chance to learn math and econometrics. At that time, I was not aware of myself that I like statistics as I had not enough time to catch up the essence of econometrics. More than two years later when I was in public health field, I got a chance to learn biostatistics from scratch in my postgrad in Public Health and I have found myself. More than three years later, in 2022, I heard about data science and I am curious to know what it is. In the end of 2022, I decided to learn Data Science to pursue a career as a public health data scientist.*  "
   ]
  },
  {
   "cell_type": "markdown",
   "id": "11a1f81f",
   "metadata": {},
   "source": [
    "### addition"
   ]
  },
  {
   "cell_type": "code",
   "execution_count": 1,
   "id": "f3b01504",
   "metadata": {},
   "outputs": [
    {
     "data": {
      "text/plain": [
       "7"
      ]
     },
     "execution_count": 1,
     "metadata": {},
     "output_type": "execute_result"
    }
   ],
   "source": [
    "2+5"
   ]
  },
  {
   "cell_type": "markdown",
   "id": "401bf62e",
   "metadata": {},
   "source": [
    "1. item1\n",
    "2. item2\n",
    "3. item3\n",
    "\n",
    "| A | Yes| NO\n",
    "| --- | --- | ---|\n",
    "| Exposed | a | b |\n",
    "| non | c | d |\n",
    "\n",
    "\n",
    "~exposed~"
   ]
  }
 ],
 "metadata": {
  "kernelspec": {
   "display_name": "Python 3 (ipykernel)",
   "language": "python",
   "name": "python3"
  },
  "language_info": {
   "codemirror_mode": {
    "name": "ipython",
    "version": 3
   },
   "file_extension": ".py",
   "mimetype": "text/x-python",
   "name": "python",
   "nbconvert_exporter": "python",
   "pygments_lexer": "ipython3",
   "version": "3.9.13"
  }
 },
 "nbformat": 4,
 "nbformat_minor": 5
}
